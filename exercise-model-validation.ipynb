{
 "cells": [
  {
   "cell_type": "markdown",
   "id": "72e67aa9",
   "metadata": {
    "papermill": {
     "duration": 0.005507,
     "end_time": "2024-02-25T07:53:32.168897",
     "exception": false,
     "start_time": "2024-02-25T07:53:32.163390",
     "status": "completed"
    },
    "tags": []
   },
   "source": [
    "**This notebook is an exercise in the [Introduction to Machine Learning](https://www.kaggle.com/learn/intro-to-machine-learning) course.  You can reference the tutorial at [this link](https://www.kaggle.com/dansbecker/model-validation).**\n",
    "\n",
    "---\n"
   ]
  },
  {
   "cell_type": "markdown",
   "id": "b81abe3d",
   "metadata": {
    "papermill": {
     "duration": 0.004759,
     "end_time": "2024-02-25T07:53:32.178963",
     "exception": false,
     "start_time": "2024-02-25T07:53:32.174204",
     "status": "completed"
    },
    "tags": []
   },
   "source": [
    "## Recap\n",
    "You've built a model. In this exercise you will test how good your model is.\n",
    "\n",
    "Run the cell below to set up your coding environment where the previous exercise left off."
   ]
  },
  {
   "cell_type": "code",
   "execution_count": 1,
   "id": "244c1851",
   "metadata": {
    "execution": {
     "iopub.execute_input": "2024-02-25T07:53:32.191873Z",
     "iopub.status.busy": "2024-02-25T07:53:32.191432Z",
     "iopub.status.idle": "2024-02-25T07:53:35.210759Z",
     "shell.execute_reply": "2024-02-25T07:53:35.209384Z"
    },
    "papermill": {
     "duration": 3.029832,
     "end_time": "2024-02-25T07:53:35.214402",
     "exception": false,
     "start_time": "2024-02-25T07:53:32.184570",
     "status": "completed"
    },
    "tags": []
   },
   "outputs": [
    {
     "name": "stdout",
     "output_type": "stream",
     "text": [
      "First in-sample predictions: [208500. 181500. 223500. 140000. 250000.]\n",
      "Actual target values for those homes: [208500, 181500, 223500, 140000, 250000]\n",
      "Setup Complete\n"
     ]
    }
   ],
   "source": [
    "# Code you have previously used to load data\n",
    "import pandas as pd\n",
    "from sklearn.tree import DecisionTreeRegressor\n",
    "\n",
    "# Path of the file to read\n",
    "iowa_file_path = '../input/home-data-for-ml-course/train.csv'\n",
    "\n",
    "home_data = pd.read_csv(iowa_file_path)\n",
    "y = home_data.SalePrice\n",
    "feature_columns = ['LotArea', 'YearBuilt', '1stFlrSF', '2ndFlrSF', 'FullBath', 'BedroomAbvGr', 'TotRmsAbvGrd']\n",
    "X = home_data[feature_columns]\n",
    "\n",
    "# Specify Model\n",
    "iowa_model = DecisionTreeRegressor()\n",
    "# Fit Model\n",
    "iowa_model.fit(X, y)\n",
    "\n",
    "print(\"First in-sample predictions:\", iowa_model.predict(X.head()))\n",
    "print(\"Actual target values for those homes:\", y.head().tolist())\n",
    "\n",
    "# Set up code checking\n",
    "from learntools.core import binder\n",
    "binder.bind(globals())\n",
    "from learntools.machine_learning.ex4 import *\n",
    "print(\"Setup Complete\")"
   ]
  },
  {
   "cell_type": "markdown",
   "id": "73b76e22",
   "metadata": {
    "papermill": {
     "duration": 0.005308,
     "end_time": "2024-02-25T07:53:35.225390",
     "exception": false,
     "start_time": "2024-02-25T07:53:35.220082",
     "status": "completed"
    },
    "tags": []
   },
   "source": [
    "# Exercises\n",
    "\n",
    "## Step 1: Split Your Data\n",
    "Use the `train_test_split` function to split up your data.\n",
    "\n",
    "Give it the argument `random_state=1` so the `check` functions know what to expect when verifying your code.\n",
    "\n",
    "Recall, your features are loaded in the DataFrame **X** and your target is loaded in **y**.\n"
   ]
  },
  {
   "cell_type": "code",
   "execution_count": 2,
   "id": "8a5c1de8",
   "metadata": {
    "execution": {
     "iopub.execute_input": "2024-02-25T07:53:35.239672Z",
     "iopub.status.busy": "2024-02-25T07:53:35.238241Z",
     "iopub.status.idle": "2024-02-25T07:53:35.255157Z",
     "shell.execute_reply": "2024-02-25T07:53:35.254110Z"
    },
    "papermill": {
     "duration": 0.028392,
     "end_time": "2024-02-25T07:53:35.259101",
     "exception": false,
     "start_time": "2024-02-25T07:53:35.230709",
     "status": "completed"
    },
    "tags": []
   },
   "outputs": [
    {
     "data": {
      "application/javascript": [
       "parent.postMessage({\"jupyterEvent\": \"custom.exercise_interaction\", \"data\": {\"outcomeType\": 1, \"valueTowardsCompletion\": 0.25, \"interactionType\": 1, \"questionType\": 2, \"questionId\": \"1_SplitData\", \"learnToolsVersion\": \"0.3.4\", \"failureMessage\": \"\", \"exceptionClass\": \"\", \"trace\": \"\"}}, \"*\")"
      ],
      "text/plain": [
       "<IPython.core.display.Javascript object>"
      ]
     },
     "metadata": {},
     "output_type": "display_data"
    },
    {
     "data": {
      "text/markdown": [
       "<span style=\"color:#33cc33\">Correct</span>"
      ],
      "text/plain": [
       "Correct"
      ]
     },
     "metadata": {},
     "output_type": "display_data"
    }
   ],
   "source": [
    "# Import the train_test_split function and uncomment\n",
    "from sklearn.model_selection import train_test_split\n",
    "\n",
    "# fill in and uncomment\n",
    "train_X, val_X, train_y, val_y = train_test_split(X,y,random_state=1)\n",
    "\n",
    "# Check your answer\n",
    "step_1.check()"
   ]
  },
  {
   "cell_type": "code",
   "execution_count": 3,
   "id": "6e995e1c",
   "metadata": {
    "execution": {
     "iopub.execute_input": "2024-02-25T07:53:35.273992Z",
     "iopub.status.busy": "2024-02-25T07:53:35.273581Z",
     "iopub.status.idle": "2024-02-25T07:53:35.279083Z",
     "shell.execute_reply": "2024-02-25T07:53:35.277312Z"
    },
    "papermill": {
     "duration": 0.016025,
     "end_time": "2024-02-25T07:53:35.281810",
     "exception": false,
     "start_time": "2024-02-25T07:53:35.265785",
     "status": "completed"
    },
    "tags": []
   },
   "outputs": [],
   "source": [
    "# The lines below will show you a hint or the solution.\n",
    "# step_1.hint() \n",
    "# step_1.solution()\n"
   ]
  },
  {
   "cell_type": "markdown",
   "id": "69165cca",
   "metadata": {
    "papermill": {
     "duration": 0.005343,
     "end_time": "2024-02-25T07:53:35.293287",
     "exception": false,
     "start_time": "2024-02-25T07:53:35.287944",
     "status": "completed"
    },
    "tags": []
   },
   "source": [
    "## Step 2: Specify and Fit the Model\n",
    "\n",
    "Create a `DecisionTreeRegressor` model and fit it to the relevant data.\n",
    "Set `random_state` to 1 again when creating the model."
   ]
  },
  {
   "cell_type": "code",
   "execution_count": 4,
   "id": "72799ef3",
   "metadata": {
    "execution": {
     "iopub.execute_input": "2024-02-25T07:53:35.306666Z",
     "iopub.status.busy": "2024-02-25T07:53:35.306145Z",
     "iopub.status.idle": "2024-02-25T07:53:35.458186Z",
     "shell.execute_reply": "2024-02-25T07:53:35.455125Z"
    },
    "papermill": {
     "duration": 0.164731,
     "end_time": "2024-02-25T07:53:35.463408",
     "exception": false,
     "start_time": "2024-02-25T07:53:35.298677",
     "status": "completed"
    },
    "tags": []
   },
   "outputs": [
    {
     "name": "stdout",
     "output_type": "stream",
     "text": [
      "[186500. 184000. 130000.  92000. 164500. 220000. 335000. 144152. 215000.\n",
      " 262000.]\n",
      "[186500. 184000. 130000.  92000. 164500. 220000. 335000. 144152. 215000.\n",
      " 262000.]\n"
     ]
    },
    {
     "data": {
      "application/javascript": [
       "parent.postMessage({\"jupyterEvent\": \"custom.exercise_interaction\", \"data\": {\"outcomeType\": 1, \"valueTowardsCompletion\": 0.25, \"interactionType\": 1, \"questionType\": 2, \"questionId\": \"2_FitModelWithTrain\", \"learnToolsVersion\": \"0.3.4\", \"failureMessage\": \"\", \"exceptionClass\": \"\", \"trace\": \"\"}}, \"*\")"
      ],
      "text/plain": [
       "<IPython.core.display.Javascript object>"
      ]
     },
     "metadata": {},
     "output_type": "display_data"
    },
    {
     "data": {
      "text/markdown": [
       "<span style=\"color:#33cc33\">Correct</span>"
      ],
      "text/plain": [
       "Correct"
      ]
     },
     "metadata": {},
     "output_type": "display_data"
    }
   ],
   "source": [
    "# You imported DecisionTreeRegressor in your last exercise\n",
    "# and that code has been copied to the setup code above. So, no need to\n",
    "# import it again\n",
    "\n",
    "# Specify the model\n",
    "iowa_model = DecisionTreeRegressor(random_state=1)\n",
    "\n",
    "# Fit iowa_model with the training data.\n",
    "iowa_model.fit(train_X,train_y)\n",
    "\n",
    "# Check your answer\n",
    "step_2.check()"
   ]
  },
  {
   "cell_type": "code",
   "execution_count": 5,
   "id": "cee022e6",
   "metadata": {
    "execution": {
     "iopub.execute_input": "2024-02-25T07:53:35.485983Z",
     "iopub.status.busy": "2024-02-25T07:53:35.484850Z",
     "iopub.status.idle": "2024-02-25T07:53:35.493517Z",
     "shell.execute_reply": "2024-02-25T07:53:35.492045Z"
    },
    "papermill": {
     "duration": 0.02399,
     "end_time": "2024-02-25T07:53:35.495913",
     "exception": false,
     "start_time": "2024-02-25T07:53:35.471923",
     "status": "completed"
    },
    "tags": []
   },
   "outputs": [],
   "source": [
    "# step_2.hint()\n",
    "# step_2.solution()"
   ]
  },
  {
   "cell_type": "markdown",
   "id": "1e290a75",
   "metadata": {
    "papermill": {
     "duration": 0.005818,
     "end_time": "2024-02-25T07:53:35.508490",
     "exception": false,
     "start_time": "2024-02-25T07:53:35.502672",
     "status": "completed"
    },
    "tags": []
   },
   "source": [
    "## Step 3: Make Predictions with Validation data\n"
   ]
  },
  {
   "cell_type": "code",
   "execution_count": 6,
   "id": "f37c001a",
   "metadata": {
    "execution": {
     "iopub.execute_input": "2024-02-25T07:53:35.525340Z",
     "iopub.status.busy": "2024-02-25T07:53:35.524604Z",
     "iopub.status.idle": "2024-02-25T07:53:35.540484Z",
     "shell.execute_reply": "2024-02-25T07:53:35.539311Z"
    },
    "papermill": {
     "duration": 0.027734,
     "end_time": "2024-02-25T07:53:35.542784",
     "exception": false,
     "start_time": "2024-02-25T07:53:35.515050",
     "status": "completed"
    },
    "tags": []
   },
   "outputs": [
    {
     "data": {
      "application/javascript": [
       "parent.postMessage({\"jupyterEvent\": \"custom.exercise_interaction\", \"data\": {\"outcomeType\": 1, \"valueTowardsCompletion\": 0.25, \"interactionType\": 1, \"questionType\": 2, \"questionId\": \"3_ValPreds\", \"learnToolsVersion\": \"0.3.4\", \"failureMessage\": \"\", \"exceptionClass\": \"\", \"trace\": \"\"}}, \"*\")"
      ],
      "text/plain": [
       "<IPython.core.display.Javascript object>"
      ]
     },
     "metadata": {},
     "output_type": "display_data"
    },
    {
     "data": {
      "text/markdown": [
       "<span style=\"color:#33cc33\">Correct</span>"
      ],
      "text/plain": [
       "Correct"
      ]
     },
     "metadata": {},
     "output_type": "display_data"
    }
   ],
   "source": [
    "# Predict with all validation observations\n",
    "val_predictions = iowa_model.predict(val_X)\n",
    "\n",
    "# Check your answer\n",
    "step_3.check()"
   ]
  },
  {
   "cell_type": "code",
   "execution_count": 7,
   "id": "07454c6c",
   "metadata": {
    "execution": {
     "iopub.execute_input": "2024-02-25T07:53:35.559065Z",
     "iopub.status.busy": "2024-02-25T07:53:35.558594Z",
     "iopub.status.idle": "2024-02-25T07:53:35.564347Z",
     "shell.execute_reply": "2024-02-25T07:53:35.562516Z"
    },
    "papermill": {
     "duration": 0.016701,
     "end_time": "2024-02-25T07:53:35.566910",
     "exception": false,
     "start_time": "2024-02-25T07:53:35.550209",
     "status": "completed"
    },
    "tags": []
   },
   "outputs": [],
   "source": [
    "# step_3.hint()\n",
    "# step_3.solution()"
   ]
  },
  {
   "cell_type": "markdown",
   "id": "1403cf55",
   "metadata": {
    "papermill": {
     "duration": 0.006035,
     "end_time": "2024-02-25T07:53:35.579178",
     "exception": false,
     "start_time": "2024-02-25T07:53:35.573143",
     "status": "completed"
    },
    "tags": []
   },
   "source": [
    "Inspect your predictions and actual values from validation data."
   ]
  },
  {
   "cell_type": "code",
   "execution_count": 8,
   "id": "d604705f",
   "metadata": {
    "execution": {
     "iopub.execute_input": "2024-02-25T07:53:35.593887Z",
     "iopub.status.busy": "2024-02-25T07:53:35.593464Z",
     "iopub.status.idle": "2024-02-25T07:53:35.601557Z",
     "shell.execute_reply": "2024-02-25T07:53:35.600062Z"
    },
    "papermill": {
     "duration": 0.018077,
     "end_time": "2024-02-25T07:53:35.604032",
     "exception": false,
     "start_time": "2024-02-25T07:53:35.585955",
     "status": "completed"
    },
    "tags": []
   },
   "outputs": [
    {
     "name": "stdout",
     "output_type": "stream",
     "text": [
      "[186500. 184000. 130000.  92000. 164500.]\n",
      "258     231500\n",
      "267     179500\n",
      "288     122000\n",
      "649      84500\n",
      "1233    142000\n",
      "Name: SalePrice, dtype: int64\n"
     ]
    }
   ],
   "source": [
    "# print the top few validation predictions\n",
    "print(val_predictions[:5])\n",
    "# print the top few actual prices from validation data\n",
    "print(val_y.head())"
   ]
  },
  {
   "cell_type": "markdown",
   "id": "6c5be340",
   "metadata": {
    "papermill": {
     "duration": 0.005297,
     "end_time": "2024-02-25T07:53:35.614953",
     "exception": false,
     "start_time": "2024-02-25T07:53:35.609656",
     "status": "completed"
    },
    "tags": []
   },
   "source": [
    "What do you notice that is different from what you saw with in-sample predictions (which are printed after the top code cell in this page).\n",
    "\n",
    "Do you remember why validation predictions differ from in-sample (or training) predictions? This is an important idea from the last lesson.\n",
    "\n",
    "## Step 4: Calculate the Mean Absolute Error in Validation Data\n"
   ]
  },
  {
   "cell_type": "code",
   "execution_count": 9,
   "id": "dc4204f2",
   "metadata": {
    "execution": {
     "iopub.execute_input": "2024-02-25T07:53:35.632144Z",
     "iopub.status.busy": "2024-02-25T07:53:35.630944Z",
     "iopub.status.idle": "2024-02-25T07:53:35.645468Z",
     "shell.execute_reply": "2024-02-25T07:53:35.644375Z"
    },
    "papermill": {
     "duration": 0.025792,
     "end_time": "2024-02-25T07:53:35.648064",
     "exception": false,
     "start_time": "2024-02-25T07:53:35.622272",
     "status": "completed"
    },
    "tags": []
   },
   "outputs": [
    {
     "name": "stdout",
     "output_type": "stream",
     "text": [
      "29652.931506849316\n",
      "val_mae:  29653\n",
      "MEAN of SALE Price in VALIDATION_TARGET: 176726\n",
      "258     231500\n",
      "267     179500\n",
      "288     122000\n",
      "649      84500\n",
      "1233    142000\n",
      "Name: SalePrice, dtype: int64\n",
      "MAE =  17%\n"
     ]
    },
    {
     "data": {
      "application/javascript": [
       "parent.postMessage({\"jupyterEvent\": \"custom.exercise_interaction\", \"data\": {\"outcomeType\": 1, \"valueTowardsCompletion\": 0.25, \"interactionType\": 1, \"questionType\": 1, \"questionId\": \"4_MAE\", \"learnToolsVersion\": \"0.3.4\", \"failureMessage\": \"\", \"exceptionClass\": \"\", \"trace\": \"\"}}, \"*\")"
      ],
      "text/plain": [
       "<IPython.core.display.Javascript object>"
      ]
     },
     "metadata": {},
     "output_type": "display_data"
    },
    {
     "data": {
      "text/markdown": [
       "<span style=\"color:#33cc33\">Correct</span>"
      ],
      "text/plain": [
       "Correct"
      ]
     },
     "metadata": {},
     "output_type": "display_data"
    }
   ],
   "source": [
    "from sklearn.metrics import mean_absolute_error\n",
    "val_mae = mean_absolute_error(val_predictions,val_y)\n",
    "\n",
    "# uncomment following line to see the validation_mae\n",
    "print(val_mae)\n",
    "print(f'val_mae: {val_mae: .0f}')\n",
    "print(f'MEAN of SALE Price in VALIDATION_TARGET: {round(val_y.mean())}')\n",
    "print(val_y[:5])\n",
    "print(f'MAE = {(val_mae/val_y.mean())*100: .0f}%')\n",
    "\n",
    "# Check your answer\n",
    "step_4.check()"
   ]
  },
  {
   "cell_type": "code",
   "execution_count": 10,
   "id": "2fe06ad4",
   "metadata": {
    "execution": {
     "iopub.execute_input": "2024-02-25T07:53:35.665306Z",
     "iopub.status.busy": "2024-02-25T07:53:35.664445Z",
     "iopub.status.idle": "2024-02-25T07:53:35.669235Z",
     "shell.execute_reply": "2024-02-25T07:53:35.668186Z"
    },
    "papermill": {
     "duration": 0.016583,
     "end_time": "2024-02-25T07:53:35.671986",
     "exception": false,
     "start_time": "2024-02-25T07:53:35.655403",
     "status": "completed"
    },
    "tags": []
   },
   "outputs": [],
   "source": [
    "# step_4.hint()\n",
    "# step_4.solution()"
   ]
  },
  {
   "cell_type": "markdown",
   "id": "60b6c92e",
   "metadata": {
    "papermill": {
     "duration": 0.007325,
     "end_time": "2024-02-25T07:53:35.685461",
     "exception": false,
     "start_time": "2024-02-25T07:53:35.678136",
     "status": "completed"
    },
    "tags": []
   },
   "source": [
    "Is that MAE good?  There isn't a general rule for what values are good that applies across applications. But you'll see how to use (and improve) this number in the next step.\n",
    "\n",
    "# Keep Going\n",
    "\n",
    "You are ready for **[Underfitting and Overfitting](https://www.kaggle.com/dansbecker/underfitting-and-overfitting).**\n"
   ]
  },
  {
   "cell_type": "markdown",
   "id": "62492121",
   "metadata": {
    "papermill": {
     "duration": 0.006234,
     "end_time": "2024-02-25T07:53:35.699521",
     "exception": false,
     "start_time": "2024-02-25T07:53:35.693287",
     "status": "completed"
    },
    "tags": []
   },
   "source": [
    "---\n",
    "\n",
    "\n",
    "\n",
    "\n",
    "*Have questions or comments? Visit the [course discussion forum](https://www.kaggle.com/learn/intro-to-machine-learning/discussion) to chat with other learners.*"
   ]
  }
 ],
 "metadata": {
  "kaggle": {
   "accelerator": "none",
   "dataSources": [
    {
     "databundleVersionId": 111096,
     "sourceId": 10211,
     "sourceType": "competition"
    },
    {
     "datasetId": 11167,
     "sourceId": 15520,
     "sourceType": "datasetVersion"
    },
    {
     "datasetId": 2709,
     "sourceId": 38454,
     "sourceType": "datasetVersion"
    }
   ],
   "isGpuEnabled": false,
   "isInternetEnabled": false,
   "language": "python",
   "sourceType": "notebook"
  },
  "kernelspec": {
   "display_name": "Python 3",
   "language": "python",
   "name": "python3"
  },
  "language_info": {
   "codemirror_mode": {
    "name": "ipython",
    "version": 3
   },
   "file_extension": ".py",
   "mimetype": "text/x-python",
   "name": "python",
   "nbconvert_exporter": "python",
   "pygments_lexer": "ipython3",
   "version": "3.10.13"
  },
  "papermill": {
   "default_parameters": {},
   "duration": 7.594627,
   "end_time": "2024-02-25T07:53:36.430567",
   "environment_variables": {},
   "exception": null,
   "input_path": "__notebook__.ipynb",
   "output_path": "__notebook__.ipynb",
   "parameters": {},
   "start_time": "2024-02-25T07:53:28.835940",
   "version": "2.5.0"
  }
 },
 "nbformat": 4,
 "nbformat_minor": 5
}
