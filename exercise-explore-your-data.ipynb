{
 "cells": [
  {
   "cell_type": "markdown",
   "id": "ae3d3fad",
   "metadata": {
    "papermill": {
     "duration": 0.003355,
     "end_time": "2024-02-24T08:34:09.632162",
     "exception": false,
     "start_time": "2024-02-24T08:34:09.628807",
     "status": "completed"
    },
    "tags": []
   },
   "source": [
    "**[Machine Learning Course Home Page](https://www.kaggle.com/learn/machine-learning)**\n",
    "\n",
    "---\n"
   ]
  },
  {
   "cell_type": "markdown",
   "id": "29a466a1",
   "metadata": {
    "papermill": {
     "duration": 0.002483,
     "end_time": "2024-02-24T08:34:09.637546",
     "exception": false,
     "start_time": "2024-02-24T08:34:09.635063",
     "status": "completed"
    },
    "tags": []
   },
   "source": [
    "This exercise will test your ability to read a data file and understand statistics about the data.\n",
    "\n",
    "In later exercises, you will apply techniques to filter the data, build a machine learning model, and iteratively improve your model.\n",
    "\n",
    "The course examples use data from Melbourne. To ensure you can apply these techniques on your own, you will have to apply them to a new dataset (with house prices from Iowa).\n",
    "\n",
    "The exercises use a \"notebook\" coding environment.  In case you are unfamiliar with notebooks, we have a [90-second intro video](https://www.youtube.com/watch?v=4C2qMnaIKL4).\n",
    "\n",
    "# Exercises\n",
    "\n",
    "Run the following cell to set up code-checking, which will verify your work as you go."
   ]
  },
  {
   "cell_type": "code",
   "execution_count": 1,
   "id": "349fd4c1",
   "metadata": {
    "execution": {
     "iopub.execute_input": "2024-02-24T08:34:09.644815Z",
     "iopub.status.busy": "2024-02-24T08:34:09.644457Z",
     "iopub.status.idle": "2024-02-24T08:34:10.653576Z",
     "shell.execute_reply": "2024-02-24T08:34:10.652490Z"
    },
    "papermill": {
     "duration": 1.015394,
     "end_time": "2024-02-24T08:34:10.655594",
     "exception": false,
     "start_time": "2024-02-24T08:34:09.640200",
     "status": "completed"
    },
    "tags": []
   },
   "outputs": [
    {
     "name": "stdout",
     "output_type": "stream",
     "text": [
      "Setup Complete\n"
     ]
    }
   ],
   "source": [
    "# Set up code checking\n",
    "from learntools.core import binder\n",
    "binder.bind(globals())\n",
    "from learntools.machine_learning.ex2 import *\n",
    "print(\"Setup Complete\")"
   ]
  },
  {
   "cell_type": "markdown",
   "id": "4e532014",
   "metadata": {
    "papermill": {
     "duration": 0.002893,
     "end_time": "2024-02-24T08:34:10.662188",
     "exception": false,
     "start_time": "2024-02-24T08:34:10.659295",
     "status": "completed"
    },
    "tags": []
   },
   "source": [
    "## Step 1: Loading Data\n",
    "Read the Iowa data file into a Pandas DataFrame called `home_data`."
   ]
  },
  {
   "cell_type": "code",
   "execution_count": 2,
   "id": "6f7d6b25",
   "metadata": {
    "collapsed": true,
    "execution": {
     "iopub.execute_input": "2024-02-24T08:34:10.670415Z",
     "iopub.status.busy": "2024-02-24T08:34:10.669098Z",
     "iopub.status.idle": "2024-02-24T08:34:10.679437Z",
     "shell.execute_reply": "2024-02-24T08:34:10.678487Z"
    },
    "jupyter": {
     "outputs_hidden": true
    },
    "papermill": {
     "duration": 0.017214,
     "end_time": "2024-02-24T08:34:10.682282",
     "exception": false,
     "start_time": "2024-02-24T08:34:10.665068",
     "status": "completed"
    },
    "tags": []
   },
   "outputs": [
    {
     "data": {
      "application/javascript": [
       "parent.postMessage({\"jupyterEvent\": \"custom.exercise_interaction\", \"data\": {\"outcomeType\": 4, \"interactionType\": 1, \"questionType\": 1, \"questionId\": \"1_LoadHomeData\", \"learnToolsVersion\": \"0.3.4\", \"valueTowardsCompletion\": 0.0, \"failureMessage\": \"\", \"exceptionClass\": \"\", \"trace\": \"\"}}, \"*\")"
      ],
      "text/plain": [
       "<IPython.core.display.Javascript object>"
      ]
     },
     "metadata": {},
     "output_type": "display_data"
    },
    {
     "data": {
      "text/markdown": [
       "<span style=\"color:#ccaa33\">Check:</span> When you've updated the starter code, `check()` will tell you whether your code is correct. You need to update the code that creates variable `home_data`"
      ],
      "text/plain": [
       "Check: When you've updated the starter code, `check()` will tell you whether your code is correct. You need to update the code that creates variable `home_data`"
      ]
     },
     "metadata": {},
     "output_type": "display_data"
    }
   ],
   "source": [
    "import pandas as pd\n",
    "\n",
    "# Path of the file to read\n",
    "iowa_file_path = '../input/home-data-for-ml-course/train.csv'\n",
    "\n",
    "# Fill in the line below to read the file into a variable home_data\n",
    "home_data = ____\n",
    "\n",
    "# Call line below with no argument to check that you've loaded the data correctly\n",
    "step_1.check()"
   ]
  },
  {
   "cell_type": "code",
   "execution_count": 3,
   "id": "7834fd42",
   "metadata": {
    "collapsed": true,
    "execution": {
     "iopub.execute_input": "2024-02-24T08:34:10.690280Z",
     "iopub.status.busy": "2024-02-24T08:34:10.689721Z",
     "iopub.status.idle": "2024-02-24T08:34:10.694757Z",
     "shell.execute_reply": "2024-02-24T08:34:10.693531Z"
    },
    "jupyter": {
     "outputs_hidden": true
    },
    "papermill": {
     "duration": 0.011456,
     "end_time": "2024-02-24T08:34:10.696912",
     "exception": false,
     "start_time": "2024-02-24T08:34:10.685456",
     "status": "completed"
    },
    "tags": []
   },
   "outputs": [],
   "source": [
    "# Lines below will give you a hint or solution code\n",
    "#step_1.hint()\n",
    "#step_1.solution()"
   ]
  },
  {
   "cell_type": "markdown",
   "id": "020de048",
   "metadata": {
    "papermill": {
     "duration": 0.002942,
     "end_time": "2024-02-24T08:34:10.703371",
     "exception": false,
     "start_time": "2024-02-24T08:34:10.700429",
     "status": "completed"
    },
    "tags": []
   },
   "source": [
    "## Step 2: Review The Data\n",
    "Use the command you learned to view summary statistics of the data. Then fill in variables to answer the following questions"
   ]
  },
  {
   "cell_type": "code",
   "execution_count": 4,
   "id": "17c385b0",
   "metadata": {
    "collapsed": true,
    "execution": {
     "iopub.execute_input": "2024-02-24T08:34:10.711394Z",
     "iopub.status.busy": "2024-02-24T08:34:10.711069Z",
     "iopub.status.idle": "2024-02-24T08:34:10.717223Z",
     "shell.execute_reply": "2024-02-24T08:34:10.715865Z"
    },
    "jupyter": {
     "outputs_hidden": true
    },
    "papermill": {
     "duration": 0.013177,
     "end_time": "2024-02-24T08:34:10.719672",
     "exception": false,
     "start_time": "2024-02-24T08:34:10.706495",
     "status": "completed"
    },
    "tags": []
   },
   "outputs": [
    {
     "data": {
      "text/markdown": [],
      "text/plain": [
       "<learntools.core.constants.PlaceholderValue at 0x7dbfe9005720>"
      ]
     },
     "execution_count": 4,
     "metadata": {},
     "output_type": "execute_result"
    }
   ],
   "source": [
    "# Print summary statistics in next line\n",
    "____"
   ]
  },
  {
   "cell_type": "code",
   "execution_count": 5,
   "id": "fcca945a",
   "metadata": {
    "execution": {
     "iopub.execute_input": "2024-02-24T08:34:10.728561Z",
     "iopub.status.busy": "2024-02-24T08:34:10.728204Z",
     "iopub.status.idle": "2024-02-24T08:34:10.736443Z",
     "shell.execute_reply": "2024-02-24T08:34:10.735535Z"
    },
    "papermill": {
     "duration": 0.015535,
     "end_time": "2024-02-24T08:34:10.738739",
     "exception": false,
     "start_time": "2024-02-24T08:34:10.723204",
     "status": "completed"
    },
    "tags": []
   },
   "outputs": [
    {
     "data": {
      "application/javascript": [
       "parent.postMessage({\"jupyterEvent\": \"custom.exercise_interaction\", \"data\": {\"outcomeType\": 4, \"interactionType\": 1, \"questionType\": 1, \"questionId\": \"2_HomeDescription\", \"learnToolsVersion\": \"0.3.4\", \"valueTowardsCompletion\": 0.0, \"failureMessage\": \"\", \"exceptionClass\": \"\", \"trace\": \"\"}}, \"*\")"
      ],
      "text/plain": [
       "<IPython.core.display.Javascript object>"
      ]
     },
     "metadata": {},
     "output_type": "display_data"
    },
    {
     "data": {
      "text/markdown": [
       "<span style=\"color:#ccaa33\">Check:</span> When you've updated the starter code, `check()` will tell you whether your code is correct. You need to update the code that creates variables `avg_lot_size`, `newest_home_age`"
      ],
      "text/plain": [
       "Check: When you've updated the starter code, `check()` will tell you whether your code is correct. You need to update the code that creates variables `avg_lot_size`, `newest_home_age`"
      ]
     },
     "metadata": {},
     "output_type": "display_data"
    }
   ],
   "source": [
    "# What is the average lot size (rounded to nearest integer)?\n",
    "avg_lot_size = ____\n",
    "\n",
    "# As of today, how old is the newest home (current year - the date in which it was built)\n",
    "newest_home_age = ____\n",
    "\n",
    "# Checks your answers\n",
    "step_2.check()"
   ]
  },
  {
   "cell_type": "code",
   "execution_count": 6,
   "id": "ac087002",
   "metadata": {
    "collapsed": true,
    "execution": {
     "iopub.execute_input": "2024-02-24T08:34:10.748027Z",
     "iopub.status.busy": "2024-02-24T08:34:10.747670Z",
     "iopub.status.idle": "2024-02-24T08:34:10.751551Z",
     "shell.execute_reply": "2024-02-24T08:34:10.750751Z"
    },
    "jupyter": {
     "outputs_hidden": true
    },
    "papermill": {
     "duration": 0.0107,
     "end_time": "2024-02-24T08:34:10.753432",
     "exception": false,
     "start_time": "2024-02-24T08:34:10.742732",
     "status": "completed"
    },
    "tags": []
   },
   "outputs": [],
   "source": [
    "#step_2.hint()\n",
    "#step_2.solution()"
   ]
  },
  {
   "cell_type": "markdown",
   "id": "5ca18421",
   "metadata": {
    "papermill": {
     "duration": 0.003677,
     "end_time": "2024-02-24T08:34:10.761028",
     "exception": false,
     "start_time": "2024-02-24T08:34:10.757351",
     "status": "completed"
    },
    "tags": []
   },
   "source": [
    "## Think About Your Data\n",
    "\n",
    "The newest house in your data isn't that new.  A few potential explanations for this:\n",
    "1. They haven't built new houses where this data was collected.\n",
    "1. The data was collected a long time ago. Houses built after the data publication wouldn't show up.\n",
    "\n",
    "If the reason is explanation #1 above, does that affect your trust in the model you build with this data? What about if it is reason #2?\n",
    "\n",
    "How could you dig into the data to see which explanation is more plausible?\n",
    "\n",
    "Check out this **[discussion thread](https://www.kaggle.com/learn-forum/60581)** to see what others think or to add your ideas.\n",
    "\n",
    "# Keep Going\n",
    "\n",
    "You are ready for **[Your First Machine Learning Model](https://www.kaggle.com/dansbecker/your-first-machine-learning-model).**\n"
   ]
  },
  {
   "cell_type": "markdown",
   "id": "92116296",
   "metadata": {
    "papermill": {
     "duration": 0.003432,
     "end_time": "2024-02-24T08:34:10.768124",
     "exception": false,
     "start_time": "2024-02-24T08:34:10.764692",
     "status": "completed"
    },
    "tags": []
   },
   "source": [
    "---\n",
    "**[Machine Learning Course Home Page](https://www.kaggle.com/learn/machine-learning)**\n",
    "\n"
   ]
  }
 ],
 "metadata": {
  "kaggle": {
   "accelerator": "none",
   "dataSources": [
    {
     "datasetId": 2709,
     "sourceId": 38454,
     "sourceType": "datasetVersion"
    },
    {
     "datasetId": 108980,
     "sourceId": 260251,
     "sourceType": "datasetVersion"
    }
   ],
   "isGpuEnabled": false,
   "isInternetEnabled": false,
   "language": "python",
   "sourceType": "notebook"
  },
  "kernelspec": {
   "display_name": "Python 3",
   "language": "python",
   "name": "python3"
  },
  "language_info": {
   "codemirror_mode": {
    "name": "ipython",
    "version": 3
   },
   "file_extension": ".py",
   "mimetype": "text/x-python",
   "name": "python",
   "nbconvert_exporter": "python",
   "pygments_lexer": "ipython3",
   "version": "3.10.13"
  },
  "papermill": {
   "default_parameters": {},
   "duration": 4.119508,
   "end_time": "2024-02-24T08:34:11.190482",
   "environment_variables": {},
   "exception": null,
   "input_path": "__notebook__.ipynb",
   "output_path": "__notebook__.ipynb",
   "parameters": {},
   "start_time": "2024-02-24T08:34:07.070974",
   "version": "2.5.0"
  }
 },
 "nbformat": 4,
 "nbformat_minor": 5
}
