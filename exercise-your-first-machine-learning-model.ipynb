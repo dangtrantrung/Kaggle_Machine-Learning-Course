{
 "cells": [
  {
   "cell_type": "markdown",
   "id": "3ad7fc5b",
   "metadata": {
    "papermill": {
     "duration": 0.005453,
     "end_time": "2024-02-24T09:15:16.179509",
     "exception": false,
     "start_time": "2024-02-24T09:15:16.174056",
     "status": "completed"
    },
    "tags": []
   },
   "source": [
    "**This notebook is an exercise in the [Introduction to Machine Learning](https://www.kaggle.com/learn/intro-to-machine-learning) course.  You can reference the tutorial at [this link](https://www.kaggle.com/dansbecker/your-first-machine-learning-model).**\n",
    "\n",
    "---\n"
   ]
  },
  {
   "cell_type": "markdown",
   "id": "3b7c7ebc",
   "metadata": {
    "papermill": {
     "duration": 0.004628,
     "end_time": "2024-02-24T09:15:16.189295",
     "exception": false,
     "start_time": "2024-02-24T09:15:16.184667",
     "status": "completed"
    },
    "tags": []
   },
   "source": [
    "## Recap\n",
    "So far, you have loaded your data and reviewed it with the following code. Run this cell to set up your coding environment where the previous step left off."
   ]
  },
  {
   "cell_type": "code",
   "execution_count": 1,
   "id": "e548cf62",
   "metadata": {
    "execution": {
     "iopub.execute_input": "2024-02-24T09:15:16.204193Z",
     "iopub.status.busy": "2024-02-24T09:15:16.203745Z",
     "iopub.status.idle": "2024-02-24T09:15:19.654835Z",
     "shell.execute_reply": "2024-02-24T09:15:19.653291Z"
    },
    "papermill": {
     "duration": 3.4629,
     "end_time": "2024-02-24T09:15:19.657900",
     "exception": false,
     "start_time": "2024-02-24T09:15:16.195000",
     "status": "completed"
    },
    "tags": []
   },
   "outputs": [
    {
     "name": "stdout",
     "output_type": "stream",
     "text": [
      "Setup Complete\n"
     ]
    }
   ],
   "source": [
    "# Code you have previously used to load data\n",
    "import pandas as pd\n",
    "\n",
    "# Path of the file to read\n",
    "iowa_file_path = '../input/home-data-for-ml-course/train.csv'\n",
    "\n",
    "home_data = pd.read_csv(iowa_file_path)\n",
    "\n",
    "# Set up code checking\n",
    "from learntools.core import binder\n",
    "binder.bind(globals())\n",
    "from learntools.machine_learning.ex3 import *\n",
    "\n",
    "print(\"Setup Complete\")"
   ]
  },
  {
   "cell_type": "markdown",
   "id": "feab61d0",
   "metadata": {
    "papermill": {
     "duration": 0.004937,
     "end_time": "2024-02-24T09:15:19.668721",
     "exception": false,
     "start_time": "2024-02-24T09:15:19.663784",
     "status": "completed"
    },
    "tags": []
   },
   "source": [
    "# Exercises\n",
    "\n",
    "## Step 1: Specify Prediction Target\n",
    "Select the target variable, which corresponds to the sales price. Save this to a new variable called `y`. You'll need to print a list of the columns to find the name of the column you need.\n"
   ]
  },
  {
   "cell_type": "code",
   "execution_count": 2,
   "id": "047ec3f6",
   "metadata": {
    "collapsed": true,
    "execution": {
     "iopub.execute_input": "2024-02-24T09:15:19.681694Z",
     "iopub.status.busy": "2024-02-24T09:15:19.681249Z",
     "iopub.status.idle": "2024-02-24T09:15:19.686568Z",
     "shell.execute_reply": "2024-02-24T09:15:19.685189Z"
    },
    "jupyter": {
     "outputs_hidden": true
    },
    "papermill": {
     "duration": 0.016225,
     "end_time": "2024-02-24T09:15:19.689971",
     "exception": false,
     "start_time": "2024-02-24T09:15:19.673746",
     "status": "completed"
    },
    "tags": []
   },
   "outputs": [],
   "source": [
    "# print the list of columns in the dataset to find the name of the prediction target\n"
   ]
  },
  {
   "cell_type": "code",
   "execution_count": 3,
   "id": "28362720",
   "metadata": {
    "collapsed": true,
    "execution": {
     "iopub.execute_input": "2024-02-24T09:15:19.703625Z",
     "iopub.status.busy": "2024-02-24T09:15:19.702933Z",
     "iopub.status.idle": "2024-02-24T09:15:19.713161Z",
     "shell.execute_reply": "2024-02-24T09:15:19.712040Z"
    },
    "jupyter": {
     "outputs_hidden": true
    },
    "papermill": {
     "duration": 0.020432,
     "end_time": "2024-02-24T09:15:19.716107",
     "exception": false,
     "start_time": "2024-02-24T09:15:19.695675",
     "status": "completed"
    },
    "tags": []
   },
   "outputs": [
    {
     "data": {
      "application/javascript": [
       "parent.postMessage({\"jupyterEvent\": \"custom.exercise_interaction\", \"data\": {\"outcomeType\": 4, \"interactionType\": 1, \"questionType\": 2, \"questionId\": \"1_SetTarget\", \"learnToolsVersion\": \"0.3.4\", \"valueTowardsCompletion\": 0.0, \"failureMessage\": \"\", \"exceptionClass\": \"\", \"trace\": \"\"}}, \"*\")"
      ],
      "text/plain": [
       "<IPython.core.display.Javascript object>"
      ]
     },
     "metadata": {},
     "output_type": "display_data"
    },
    {
     "data": {
      "text/markdown": [
       "<span style=\"color:#ccaa33\">Check:</span> When you've updated the starter code, `check()` will tell you whether your code is correct. You need to update the code that creates variable `y`"
      ],
      "text/plain": [
       "Check: When you've updated the starter code, `check()` will tell you whether your code is correct. You need to update the code that creates variable `y`"
      ]
     },
     "metadata": {},
     "output_type": "display_data"
    }
   ],
   "source": [
    "y = ____\n",
    "\n",
    "# Check your answer\n",
    "step_1.check()"
   ]
  },
  {
   "cell_type": "code",
   "execution_count": 4,
   "id": "7c05f183",
   "metadata": {
    "collapsed": true,
    "execution": {
     "iopub.execute_input": "2024-02-24T09:15:19.731309Z",
     "iopub.status.busy": "2024-02-24T09:15:19.730695Z",
     "iopub.status.idle": "2024-02-24T09:15:19.735128Z",
     "shell.execute_reply": "2024-02-24T09:15:19.734222Z"
    },
    "jupyter": {
     "outputs_hidden": true
    },
    "papermill": {
     "duration": 0.015107,
     "end_time": "2024-02-24T09:15:19.737381",
     "exception": false,
     "start_time": "2024-02-24T09:15:19.722274",
     "status": "completed"
    },
    "tags": []
   },
   "outputs": [],
   "source": [
    "# The lines below will show you a hint or the solution.\n",
    "# step_1.hint() \n",
    "# step_1.solution()"
   ]
  },
  {
   "cell_type": "markdown",
   "id": "4cebbf84",
   "metadata": {
    "papermill": {
     "duration": 0.005088,
     "end_time": "2024-02-24T09:15:19.748541",
     "exception": false,
     "start_time": "2024-02-24T09:15:19.743453",
     "status": "completed"
    },
    "tags": []
   },
   "source": [
    "## Step 2: Create X\n",
    "Now you will create a DataFrame called `X` holding the predictive features.\n",
    "\n",
    "Since you want only some columns from the original data, you'll first create a list with the names of the columns you want in `X`.\n",
    "\n",
    "You'll use just the following columns in the list (you can copy and paste the whole list to save some typing, though you'll still need to add quotes):\n",
    "  * LotArea\n",
    "  * YearBuilt\n",
    "  * 1stFlrSF\n",
    "  * 2ndFlrSF\n",
    "  * FullBath\n",
    "  * BedroomAbvGr\n",
    "  * TotRmsAbvGrd\n",
    "\n",
    "After you've created that list of features, use it to create the DataFrame that you'll use to fit the model."
   ]
  },
  {
   "cell_type": "code",
   "execution_count": 5,
   "id": "b8c7e9ee",
   "metadata": {
    "collapsed": true,
    "execution": {
     "iopub.execute_input": "2024-02-24T09:15:19.763002Z",
     "iopub.status.busy": "2024-02-24T09:15:19.762343Z",
     "iopub.status.idle": "2024-02-24T09:15:19.772778Z",
     "shell.execute_reply": "2024-02-24T09:15:19.771329Z"
    },
    "jupyter": {
     "outputs_hidden": true
    },
    "papermill": {
     "duration": 0.021042,
     "end_time": "2024-02-24T09:15:19.775368",
     "exception": false,
     "start_time": "2024-02-24T09:15:19.754326",
     "status": "completed"
    },
    "tags": []
   },
   "outputs": [
    {
     "data": {
      "application/javascript": [
       "parent.postMessage({\"jupyterEvent\": \"custom.exercise_interaction\", \"data\": {\"outcomeType\": 4, \"interactionType\": 1, \"questionType\": 2, \"questionId\": \"2_SelectPredictionData\", \"learnToolsVersion\": \"0.3.4\", \"valueTowardsCompletion\": 0.0, \"failureMessage\": \"\", \"exceptionClass\": \"\", \"trace\": \"\"}}, \"*\")"
      ],
      "text/plain": [
       "<IPython.core.display.Javascript object>"
      ]
     },
     "metadata": {},
     "output_type": "display_data"
    },
    {
     "data": {
      "text/markdown": [
       "<span style=\"color:#ccaa33\">Check:</span> When you've updated the starter code, `check()` will tell you whether your code is correct. You need to update the code that creates variable `X`"
      ],
      "text/plain": [
       "Check: When you've updated the starter code, `check()` will tell you whether your code is correct. You need to update the code that creates variable `X`"
      ]
     },
     "metadata": {},
     "output_type": "display_data"
    }
   ],
   "source": [
    "# Create the list of features below\n",
    "feature_names = ___\n",
    "\n",
    "# Select data corresponding to features in feature_names\n",
    "X = ____\n",
    "\n",
    "# Check your answer\n",
    "step_2.check()"
   ]
  },
  {
   "cell_type": "code",
   "execution_count": 6,
   "id": "bb863db1",
   "metadata": {
    "collapsed": true,
    "execution": {
     "iopub.execute_input": "2024-02-24T09:15:19.792785Z",
     "iopub.status.busy": "2024-02-24T09:15:19.791497Z",
     "iopub.status.idle": "2024-02-24T09:15:19.797624Z",
     "shell.execute_reply": "2024-02-24T09:15:19.795553Z"
    },
    "jupyter": {
     "outputs_hidden": true
    },
    "papermill": {
     "duration": 0.01924,
     "end_time": "2024-02-24T09:15:19.801183",
     "exception": false,
     "start_time": "2024-02-24T09:15:19.781943",
     "status": "completed"
    },
    "tags": []
   },
   "outputs": [],
   "source": [
    "# step_2.hint()\n",
    "# step_2.solution()"
   ]
  },
  {
   "cell_type": "markdown",
   "id": "19c5f1fb",
   "metadata": {
    "papermill": {
     "duration": 0.005978,
     "end_time": "2024-02-24T09:15:19.813127",
     "exception": false,
     "start_time": "2024-02-24T09:15:19.807149",
     "status": "completed"
    },
    "tags": []
   },
   "source": [
    "## Review Data\n",
    "Before building a model, take a quick look at **X** to verify it looks sensible"
   ]
  },
  {
   "cell_type": "code",
   "execution_count": 7,
   "id": "8021beea",
   "metadata": {
    "collapsed": true,
    "execution": {
     "iopub.execute_input": "2024-02-24T09:15:19.829125Z",
     "iopub.status.busy": "2024-02-24T09:15:19.828662Z",
     "iopub.status.idle": "2024-02-24T09:15:19.834872Z",
     "shell.execute_reply": "2024-02-24T09:15:19.833594Z"
    },
    "jupyter": {
     "outputs_hidden": true
    },
    "papermill": {
     "duration": 0.017092,
     "end_time": "2024-02-24T09:15:19.837721",
     "exception": false,
     "start_time": "2024-02-24T09:15:19.820629",
     "status": "completed"
    },
    "tags": []
   },
   "outputs": [],
   "source": [
    "# Review data\n",
    "# print description or statistics from X\n",
    "#print(_)\n",
    "\n",
    "# print the top few lines\n",
    "#print(_)"
   ]
  },
  {
   "cell_type": "markdown",
   "id": "289a18bf",
   "metadata": {
    "papermill": {
     "duration": 0.005569,
     "end_time": "2024-02-24T09:15:19.849248",
     "exception": false,
     "start_time": "2024-02-24T09:15:19.843679",
     "status": "completed"
    },
    "tags": []
   },
   "source": [
    "## Step 3: Specify and Fit Model\n",
    "Create a `DecisionTreeRegressor` and save it iowa_model. Ensure you've done the relevant import from sklearn to run this command.\n",
    "\n",
    "Then fit the model you just created using the data in `X` and `y` that you saved above."
   ]
  },
  {
   "cell_type": "code",
   "execution_count": 8,
   "id": "9a0ae6b5",
   "metadata": {
    "collapsed": true,
    "execution": {
     "iopub.execute_input": "2024-02-24T09:15:19.862824Z",
     "iopub.status.busy": "2024-02-24T09:15:19.862407Z",
     "iopub.status.idle": "2024-02-24T09:15:19.873221Z",
     "shell.execute_reply": "2024-02-24T09:15:19.871868Z"
    },
    "jupyter": {
     "outputs_hidden": true
    },
    "papermill": {
     "duration": 0.020905,
     "end_time": "2024-02-24T09:15:19.876028",
     "exception": false,
     "start_time": "2024-02-24T09:15:19.855123",
     "status": "completed"
    },
    "tags": []
   },
   "outputs": [
    {
     "data": {
      "application/javascript": [
       "parent.postMessage({\"jupyterEvent\": \"custom.exercise_interaction\", \"data\": {\"outcomeType\": 4, \"interactionType\": 1, \"questionType\": 2, \"questionId\": \"3_CreateModel\", \"learnToolsVersion\": \"0.3.4\", \"valueTowardsCompletion\": 0.0, \"failureMessage\": \"\", \"exceptionClass\": \"\", \"trace\": \"\"}}, \"*\")"
      ],
      "text/plain": [
       "<IPython.core.display.Javascript object>"
      ]
     },
     "metadata": {},
     "output_type": "display_data"
    },
    {
     "data": {
      "text/markdown": [
       "<span style=\"color:#ccaa33\">Check:</span> When you've updated the starter code, `check()` will tell you whether your code is correct. You need to update the code that creates variable `iowa_model`"
      ],
      "text/plain": [
       "Check: When you've updated the starter code, `check()` will tell you whether your code is correct. You need to update the code that creates variable `iowa_model`"
      ]
     },
     "metadata": {},
     "output_type": "display_data"
    }
   ],
   "source": [
    "# from _ import _\n",
    "#specify the model. \n",
    "#For model reproducibility, set a numeric value for random_state when specifying the model\n",
    "iowa_model = ____\n",
    "\n",
    "# Fit the model\n",
    "____\n",
    "\n",
    "# Check your answer\n",
    "step_3.check()"
   ]
  },
  {
   "cell_type": "code",
   "execution_count": 9,
   "id": "26e37edc",
   "metadata": {
    "collapsed": true,
    "execution": {
     "iopub.execute_input": "2024-02-24T09:15:19.891285Z",
     "iopub.status.busy": "2024-02-24T09:15:19.890820Z",
     "iopub.status.idle": "2024-02-24T09:15:19.896583Z",
     "shell.execute_reply": "2024-02-24T09:15:19.895232Z"
    },
    "jupyter": {
     "outputs_hidden": true
    },
    "papermill": {
     "duration": 0.016713,
     "end_time": "2024-02-24T09:15:19.898966",
     "exception": false,
     "start_time": "2024-02-24T09:15:19.882253",
     "status": "completed"
    },
    "tags": []
   },
   "outputs": [],
   "source": [
    "# step_3.hint()\n",
    "# step_3.solution()"
   ]
  },
  {
   "cell_type": "markdown",
   "id": "61a47c5b",
   "metadata": {
    "papermill": {
     "duration": 0.00587,
     "end_time": "2024-02-24T09:15:19.911135",
     "exception": false,
     "start_time": "2024-02-24T09:15:19.905265",
     "status": "completed"
    },
    "tags": []
   },
   "source": [
    "## Step 4: Make Predictions\n",
    "Make predictions with the model's `predict` command using `X` as the data. Save the results to a variable called `predictions`."
   ]
  },
  {
   "cell_type": "code",
   "execution_count": 10,
   "id": "872aafb9",
   "metadata": {
    "collapsed": true,
    "execution": {
     "iopub.execute_input": "2024-02-24T09:15:19.929959Z",
     "iopub.status.busy": "2024-02-24T09:15:19.928120Z",
     "iopub.status.idle": "2024-02-24T09:15:19.942334Z",
     "shell.execute_reply": "2024-02-24T09:15:19.940755Z"
    },
    "jupyter": {
     "outputs_hidden": true
    },
    "papermill": {
     "duration": 0.027311,
     "end_time": "2024-02-24T09:15:19.946238",
     "exception": false,
     "start_time": "2024-02-24T09:15:19.918927",
     "status": "completed"
    },
    "tags": []
   },
   "outputs": [
    {
     "name": "stdout",
     "output_type": "stream",
     "text": [
      "<learntools.core.constants.PlaceholderValue object at 0x7b9ec5af1de0>\n"
     ]
    },
    {
     "data": {
      "application/javascript": [
       "parent.postMessage({\"jupyterEvent\": \"custom.exercise_interaction\", \"data\": {\"outcomeType\": 4, \"interactionType\": 1, \"questionType\": 2, \"questionId\": \"4_MakePredictions\", \"learnToolsVersion\": \"0.3.4\", \"valueTowardsCompletion\": 0.0, \"failureMessage\": \"\", \"exceptionClass\": \"\", \"trace\": \"\"}}, \"*\")"
      ],
      "text/plain": [
       "<IPython.core.display.Javascript object>"
      ]
     },
     "metadata": {},
     "output_type": "display_data"
    },
    {
     "data": {
      "text/markdown": [
       "<span style=\"color:#ccaa33\">Check:</span> When you've updated the starter code, `check()` will tell you whether your code is correct. You need to update the code that creates variables `predictions`, `iowa_model`, `X`"
      ],
      "text/plain": [
       "Check: When you've updated the starter code, `check()` will tell you whether your code is correct. You need to update the code that creates variables `predictions`, `iowa_model`, `X`"
      ]
     },
     "metadata": {},
     "output_type": "display_data"
    }
   ],
   "source": [
    "predictions = ____\n",
    "print(predictions)\n",
    "\n",
    "# Check your answer\n",
    "step_4.check()"
   ]
  },
  {
   "cell_type": "code",
   "execution_count": 11,
   "id": "88ae37a3",
   "metadata": {
    "collapsed": true,
    "execution": {
     "iopub.execute_input": "2024-02-24T09:15:19.962361Z",
     "iopub.status.busy": "2024-02-24T09:15:19.961918Z",
     "iopub.status.idle": "2024-02-24T09:15:19.968025Z",
     "shell.execute_reply": "2024-02-24T09:15:19.966264Z"
    },
    "jupyter": {
     "outputs_hidden": true
    },
    "papermill": {
     "duration": 0.017115,
     "end_time": "2024-02-24T09:15:19.970783",
     "exception": false,
     "start_time": "2024-02-24T09:15:19.953668",
     "status": "completed"
    },
    "tags": []
   },
   "outputs": [],
   "source": [
    "# step_4.hint()\n",
    "# step_4.solution()"
   ]
  },
  {
   "cell_type": "markdown",
   "id": "ca2a6790",
   "metadata": {
    "papermill": {
     "duration": 0.00635,
     "end_time": "2024-02-24T09:15:19.983969",
     "exception": false,
     "start_time": "2024-02-24T09:15:19.977619",
     "status": "completed"
    },
    "tags": []
   },
   "source": [
    "## Think About Your Results\n",
    "\n",
    "Use the `head` method to compare the top few predictions to the actual home values (in `y`) for those same homes. Anything surprising?\n"
   ]
  },
  {
   "cell_type": "code",
   "execution_count": 12,
   "id": "8b7f2464",
   "metadata": {
    "execution": {
     "iopub.execute_input": "2024-02-24T09:15:20.001169Z",
     "iopub.status.busy": "2024-02-24T09:15:20.000759Z",
     "iopub.status.idle": "2024-02-24T09:15:20.008290Z",
     "shell.execute_reply": "2024-02-24T09:15:20.007038Z"
    },
    "papermill": {
     "duration": 0.020097,
     "end_time": "2024-02-24T09:15:20.010761",
     "exception": false,
     "start_time": "2024-02-24T09:15:19.990664",
     "status": "completed"
    },
    "tags": []
   },
   "outputs": [],
   "source": [
    "# You can write code in this cell\n"
   ]
  },
  {
   "cell_type": "markdown",
   "id": "f32403dc",
   "metadata": {
    "papermill": {
     "duration": 0.006842,
     "end_time": "2024-02-24T09:15:20.024897",
     "exception": false,
     "start_time": "2024-02-24T09:15:20.018055",
     "status": "completed"
    },
    "tags": []
   },
   "source": [
    "It's natural to ask how accurate the model's predictions will be and how you can improve that. That will be you're next step.\n",
    "\n",
    "# Keep Going\n",
    "\n",
    "You are ready for **[Model Validation](https://www.kaggle.com/dansbecker/model-validation).**\n"
   ]
  },
  {
   "cell_type": "markdown",
   "id": "26d58354",
   "metadata": {
    "papermill": {
     "duration": 0.006432,
     "end_time": "2024-02-24T09:15:20.038745",
     "exception": false,
     "start_time": "2024-02-24T09:15:20.032313",
     "status": "completed"
    },
    "tags": []
   },
   "source": [
    "---\n",
    "\n",
    "\n",
    "\n",
    "\n",
    "*Have questions or comments? Visit the [course discussion forum](https://www.kaggle.com/learn/intro-to-machine-learning/discussion) to chat with other learners.*"
   ]
  }
 ],
 "metadata": {
  "kaggle": {
   "accelerator": "none",
   "dataSources": [
    {
     "databundleVersionId": 111096,
     "sourceId": 10211,
     "sourceType": "competition"
    },
    {
     "datasetId": 11167,
     "sourceId": 15520,
     "sourceType": "datasetVersion"
    },
    {
     "datasetId": 2709,
     "sourceId": 38454,
     "sourceType": "datasetVersion"
    }
   ],
   "isGpuEnabled": false,
   "isInternetEnabled": false,
   "language": "python",
   "sourceType": "notebook"
  },
  "kernelspec": {
   "display_name": "Python 3",
   "language": "python",
   "name": "python3"
  },
  "language_info": {
   "codemirror_mode": {
    "name": "ipython",
    "version": 3
   },
   "file_extension": ".py",
   "mimetype": "text/x-python",
   "name": "python",
   "nbconvert_exporter": "python",
   "pygments_lexer": "ipython3",
   "version": "3.10.13"
  },
  "papermill": {
   "default_parameters": {},
   "duration": 8.058363,
   "end_time": "2024-02-24T09:15:20.768719",
   "environment_variables": {},
   "exception": null,
   "input_path": "__notebook__.ipynb",
   "output_path": "__notebook__.ipynb",
   "parameters": {},
   "start_time": "2024-02-24T09:15:12.710356",
   "version": "2.5.0"
  }
 },
 "nbformat": 4,
 "nbformat_minor": 5
}
