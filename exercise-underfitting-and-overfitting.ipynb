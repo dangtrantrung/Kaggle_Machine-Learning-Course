{
 "cells": [
  {
   "cell_type": "markdown",
   "id": "ca60224c",
   "metadata": {
    "papermill": {
     "duration": 0.005379,
     "end_time": "2024-02-25T08:19:32.653188",
     "exception": false,
     "start_time": "2024-02-25T08:19:32.647809",
     "status": "completed"
    },
    "tags": []
   },
   "source": [
    "**This notebook is an exercise in the [Introduction to Machine Learning](https://www.kaggle.com/learn/intro-to-machine-learning) course.  You can reference the tutorial at [this link](https://www.kaggle.com/dansbecker/underfitting-and-overfitting).**\n",
    "\n",
    "---\n"
   ]
  },
  {
   "cell_type": "markdown",
   "id": "b29a2922",
   "metadata": {
    "papermill": {
     "duration": 0.004773,
     "end_time": "2024-02-25T08:19:32.663130",
     "exception": false,
     "start_time": "2024-02-25T08:19:32.658357",
     "status": "completed"
    },
    "tags": []
   },
   "source": [
    "## Recap\n",
    "You've built your first model, and now it's time to optimize the size of the tree to make better predictions. Run this cell to set up your coding environment where the previous step left off."
   ]
  },
  {
   "cell_type": "code",
   "execution_count": 1,
   "id": "ca05e1f4",
   "metadata": {
    "execution": {
     "iopub.execute_input": "2024-02-25T08:19:32.676049Z",
     "iopub.status.busy": "2024-02-25T08:19:32.675127Z",
     "iopub.status.idle": "2024-02-25T08:19:35.718518Z",
     "shell.execute_reply": "2024-02-25T08:19:35.717488Z"
    },
    "papermill": {
     "duration": 3.053546,
     "end_time": "2024-02-25T08:19:35.721819",
     "exception": false,
     "start_time": "2024-02-25T08:19:32.668273",
     "status": "completed"
    },
    "tags": []
   },
   "outputs": [
    {
     "name": "stdout",
     "output_type": "stream",
     "text": [
      "Validation MAE: 29,653\n",
      "\n",
      "Setup complete\n"
     ]
    }
   ],
   "source": [
    "# Code you have previously used to load data\n",
    "import pandas as pd\n",
    "from sklearn.metrics import mean_absolute_error\n",
    "from sklearn.model_selection import train_test_split\n",
    "from sklearn.tree import DecisionTreeRegressor\n",
    "\n",
    "\n",
    "# Path of the file to read\n",
    "iowa_file_path = '../input/home-data-for-ml-course/train.csv'\n",
    "\n",
    "home_data = pd.read_csv(iowa_file_path)\n",
    "# Create target object and call it y\n",
    "y = home_data.SalePrice\n",
    "# Create X\n",
    "features = ['LotArea', 'YearBuilt', '1stFlrSF', '2ndFlrSF', 'FullBath', 'BedroomAbvGr', 'TotRmsAbvGrd']\n",
    "X = home_data[features]\n",
    "\n",
    "# Split into validation and training data\n",
    "train_X, val_X, train_y, val_y = train_test_split(X, y, random_state=1)\n",
    "\n",
    "# Specify Model\n",
    "iowa_model = DecisionTreeRegressor(random_state=1)\n",
    "# Fit Model\n",
    "iowa_model.fit(train_X, train_y)\n",
    "\n",
    "# Make validation predictions and calculate mean absolute error\n",
    "val_predictions = iowa_model.predict(val_X)\n",
    "val_mae = mean_absolute_error(val_predictions, val_y)\n",
    "print(\"Validation MAE: {:,.0f}\".format(val_mae))\n",
    "\n",
    "# Set up code checking\n",
    "from learntools.core import binder\n",
    "binder.bind(globals())\n",
    "from learntools.machine_learning.ex5 import *\n",
    "print(\"\\nSetup complete\")"
   ]
  },
  {
   "cell_type": "markdown",
   "id": "b0adbec3",
   "metadata": {
    "papermill": {
     "duration": 0.006494,
     "end_time": "2024-02-25T08:19:35.735433",
     "exception": false,
     "start_time": "2024-02-25T08:19:35.728939",
     "status": "completed"
    },
    "tags": []
   },
   "source": [
    "# Exercises\n",
    "You could write the function `get_mae` yourself. For now, we'll supply it. This is the same function you read about in the previous lesson. Just run the cell below."
   ]
  },
  {
   "cell_type": "code",
   "execution_count": 2,
   "id": "3cbd3c52",
   "metadata": {
    "execution": {
     "iopub.execute_input": "2024-02-25T08:19:35.755118Z",
     "iopub.status.busy": "2024-02-25T08:19:35.754043Z",
     "iopub.status.idle": "2024-02-25T08:19:35.761632Z",
     "shell.execute_reply": "2024-02-25T08:19:35.760503Z"
    },
    "papermill": {
     "duration": 0.018554,
     "end_time": "2024-02-25T08:19:35.764368",
     "exception": false,
     "start_time": "2024-02-25T08:19:35.745814",
     "status": "completed"
    },
    "tags": []
   },
   "outputs": [],
   "source": [
    "def get_mae(max_leaf_nodes, train_X, val_X, train_y, val_y):\n",
    "    model = DecisionTreeRegressor(max_leaf_nodes=max_leaf_nodes, random_state=0)\n",
    "    model.fit(train_X, train_y)\n",
    "    preds_val = model.predict(val_X)\n",
    "    mae = mean_absolute_error(val_y, preds_val)\n",
    "    return(mae)"
   ]
  },
  {
   "cell_type": "markdown",
   "id": "6c38498f",
   "metadata": {
    "papermill": {
     "duration": 0.004923,
     "end_time": "2024-02-25T08:19:35.774512",
     "exception": false,
     "start_time": "2024-02-25T08:19:35.769589",
     "status": "completed"
    },
    "tags": []
   },
   "source": [
    "## Step 1: Compare Different Tree Sizes\n",
    "Write a loop that tries the following values for *max_leaf_nodes* from a set of possible values.\n",
    "\n",
    "Call the *get_mae* function on each value of max_leaf_nodes. Store the output in some way that allows you to select the value of `max_leaf_nodes` that gives the most accurate model on your data."
   ]
  },
  {
   "cell_type": "code",
   "execution_count": 3,
   "id": "1670ddba",
   "metadata": {
    "execution": {
     "iopub.execute_input": "2024-02-25T08:19:35.787191Z",
     "iopub.status.busy": "2024-02-25T08:19:35.786301Z",
     "iopub.status.idle": "2024-02-25T08:19:35.849984Z",
     "shell.execute_reply": "2024-02-25T08:19:35.848878Z"
    },
    "papermill": {
     "duration": 0.073368,
     "end_time": "2024-02-25T08:19:35.852964",
     "exception": false,
     "start_time": "2024-02-25T08:19:35.779596",
     "status": "completed"
    },
    "tags": []
   },
   "outputs": [
    {
     "name": "stdout",
     "output_type": "stream",
     "text": [
      "[35044.51299744237, 29016.41319191076, 27405.930473214907, 27282.50803885739, 27893.822225701646, 29454.18598068598]\n",
      "best_tree_size: 100 with optimal mae =  27283\n"
     ]
    },
    {
     "data": {
      "application/javascript": [
       "parent.postMessage({\"jupyterEvent\": \"custom.exercise_interaction\", \"data\": {\"outcomeType\": 1, \"valueTowardsCompletion\": 0.5, \"interactionType\": 1, \"questionType\": 1, \"questionId\": \"1_BestTreeSize\", \"learnToolsVersion\": \"0.3.4\", \"failureMessage\": \"\", \"exceptionClass\": \"\", \"trace\": \"\"}}, \"*\")"
      ],
      "text/plain": [
       "<IPython.core.display.Javascript object>"
      ]
     },
     "metadata": {},
     "output_type": "display_data"
    },
    {
     "data": {
      "text/markdown": [
       "<span style=\"color:#33cc33\">Correct</span>"
      ],
      "text/plain": [
       "Correct"
      ]
     },
     "metadata": {},
     "output_type": "display_data"
    }
   ],
   "source": [
    "candidate_max_leaf_nodes = [5, 25, 50, 100, 250, 500]\n",
    "# Write loop to find the ideal tree size from candidate_max_leaf_nodes\n",
    "list_mae=[get_mae(mae,train_X, val_X, train_y, val_y) for mae in candidate_max_leaf_nodes]\n",
    "\n",
    "# Store the best value of max_leaf_nodes (it will be either 5, 25, 50, 100, 250 or 500)\n",
    "best_tree_size = candidate_max_leaf_nodes[list_mae.index(min(list_mae))]\n",
    "print(list_mae)\n",
    "print(f'best_tree_size: {best_tree_size} with optimal mae = {min(list_mae): .0f}')\n",
    "# Check your answer\n",
    "step_1.check()"
   ]
  },
  {
   "cell_type": "code",
   "execution_count": 4,
   "id": "cb2c5bb6",
   "metadata": {
    "execution": {
     "iopub.execute_input": "2024-02-25T08:19:35.866964Z",
     "iopub.status.busy": "2024-02-25T08:19:35.866225Z",
     "iopub.status.idle": "2024-02-25T08:19:35.870940Z",
     "shell.execute_reply": "2024-02-25T08:19:35.869908Z"
    },
    "papermill": {
     "duration": 0.014446,
     "end_time": "2024-02-25T08:19:35.873530",
     "exception": false,
     "start_time": "2024-02-25T08:19:35.859084",
     "status": "completed"
    },
    "tags": []
   },
   "outputs": [],
   "source": [
    "# The lines below will show you a hint or the solution.\n",
    "# step_1.hint() \n",
    "# step_1.solution()"
   ]
  },
  {
   "cell_type": "markdown",
   "id": "ac1aaa74",
   "metadata": {
    "papermill": {
     "duration": 0.005452,
     "end_time": "2024-02-25T08:19:35.885693",
     "exception": false,
     "start_time": "2024-02-25T08:19:35.880241",
     "status": "completed"
    },
    "tags": []
   },
   "source": [
    "## Step 2: Fit Model Using All Data\n",
    "You know the best tree size. If you were going to deploy this model in practice, you would make it even more accurate by using all of the data and keeping that tree size.  That is, you don't need to hold out the validation data now that you've made all your modeling decisions."
   ]
  },
  {
   "cell_type": "code",
   "execution_count": 5,
   "id": "a0731b14",
   "metadata": {
    "execution": {
     "iopub.execute_input": "2024-02-25T08:19:35.903283Z",
     "iopub.status.busy": "2024-02-25T08:19:35.902290Z",
     "iopub.status.idle": "2024-02-25T08:19:35.926349Z",
     "shell.execute_reply": "2024-02-25T08:19:35.925207Z"
    },
    "papermill": {
     "duration": 0.036853,
     "end_time": "2024-02-25T08:19:35.929687",
     "exception": false,
     "start_time": "2024-02-25T08:19:35.892834",
     "status": "completed"
    },
    "tags": []
   },
   "outputs": [
    {
     "data": {
      "application/javascript": [
       "parent.postMessage({\"jupyterEvent\": \"custom.exercise_interaction\", \"data\": {\"outcomeType\": 1, \"valueTowardsCompletion\": 0.5, \"interactionType\": 1, \"questionType\": 2, \"questionId\": \"2_FitModelWithAllData\", \"learnToolsVersion\": \"0.3.4\", \"failureMessage\": \"\", \"exceptionClass\": \"\", \"trace\": \"\"}}, \"*\")"
      ],
      "text/plain": [
       "<IPython.core.display.Javascript object>"
      ]
     },
     "metadata": {},
     "output_type": "display_data"
    },
    {
     "data": {
      "text/markdown": [
       "<span style=\"color:#33cc33\">Correct</span>"
      ],
      "text/plain": [
       "Correct"
      ]
     },
     "metadata": {},
     "output_type": "display_data"
    }
   ],
   "source": [
    "# Fill in argument to make optimal size and uncomment\n",
    "final_model = DecisionTreeRegressor(random_state=1,max_leaf_nodes=100)\n",
    "\n",
    "# fit the final model and uncomment the next two lines\n",
    "final_model.fit(X, y)\n",
    "\n",
    "# Check your answer\n",
    "step_2.check()"
   ]
  },
  {
   "cell_type": "code",
   "execution_count": 6,
   "id": "5855c310",
   "metadata": {
    "execution": {
     "iopub.execute_input": "2024-02-25T08:19:35.948083Z",
     "iopub.status.busy": "2024-02-25T08:19:35.947677Z",
     "iopub.status.idle": "2024-02-25T08:19:35.956221Z",
     "shell.execute_reply": "2024-02-25T08:19:35.955005Z"
    },
    "papermill": {
     "duration": 0.020635,
     "end_time": "2024-02-25T08:19:35.958818",
     "exception": false,
     "start_time": "2024-02-25T08:19:35.938183",
     "status": "completed"
    },
    "tags": []
   },
   "outputs": [
    {
     "name": "stdout",
     "output_type": "stream",
     "text": [
      "Optimal MAE with optimal parameter size (max_leaf_nodes=100) using ALL Data:  16629\n"
     ]
    }
   ],
   "source": [
    "# check for MAE in new model\n",
    "preds_val = final_model.predict(X)\n",
    "mae = mean_absolute_error(y, preds_val)\n",
    "print(f'Optimal MAE with optimal parameter size (max_leaf_nodes=100) using ALL Data: {mae: .0f}')"
   ]
  },
  {
   "cell_type": "code",
   "execution_count": 7,
   "id": "bbdcd48c",
   "metadata": {
    "execution": {
     "iopub.execute_input": "2024-02-25T08:19:35.974516Z",
     "iopub.status.busy": "2024-02-25T08:19:35.973016Z",
     "iopub.status.idle": "2024-02-25T08:19:35.978589Z",
     "shell.execute_reply": "2024-02-25T08:19:35.977491Z"
    },
    "papermill": {
     "duration": 0.015666,
     "end_time": "2024-02-25T08:19:35.981158",
     "exception": false,
     "start_time": "2024-02-25T08:19:35.965492",
     "status": "completed"
    },
    "tags": []
   },
   "outputs": [],
   "source": [
    "# step_2.hint()\n",
    "# step_2.solution()"
   ]
  },
  {
   "cell_type": "markdown",
   "id": "fb6066bf",
   "metadata": {
    "papermill": {
     "duration": 0.005838,
     "end_time": "2024-02-25T08:19:35.993569",
     "exception": false,
     "start_time": "2024-02-25T08:19:35.987731",
     "status": "completed"
    },
    "tags": []
   },
   "source": [
    "You've tuned this model and improved your results. But we are still using Decision Tree models, which are not very sophisticated by modern machine learning standards. In the next step you will learn to use Random Forests to improve your models even more.\n",
    "\n",
    "# Keep Going\n",
    "\n",
    "You are ready for **[Random Forests](https://www.kaggle.com/dansbecker/random-forests).**\n"
   ]
  },
  {
   "cell_type": "markdown",
   "id": "6b48dc18",
   "metadata": {
    "papermill": {
     "duration": 0.005831,
     "end_time": "2024-02-25T08:19:36.005597",
     "exception": false,
     "start_time": "2024-02-25T08:19:35.999766",
     "status": "completed"
    },
    "tags": []
   },
   "source": [
    "---\n",
    "\n",
    "\n",
    "\n",
    "\n",
    "*Have questions or comments? Visit the [course discussion forum](https://www.kaggle.com/learn/intro-to-machine-learning/discussion) to chat with other learners.*"
   ]
  }
 ],
 "metadata": {
  "kaggle": {
   "accelerator": "none",
   "dataSources": [
    {
     "databundleVersionId": 111096,
     "sourceId": 10211,
     "sourceType": "competition"
    },
    {
     "datasetId": 11167,
     "sourceId": 15520,
     "sourceType": "datasetVersion"
    },
    {
     "datasetId": 2709,
     "sourceId": 38454,
     "sourceType": "datasetVersion"
    }
   ],
   "isGpuEnabled": false,
   "isInternetEnabled": false,
   "language": "python",
   "sourceType": "notebook"
  },
  "kernelspec": {
   "display_name": "Python 3",
   "language": "python",
   "name": "python3"
  },
  "language_info": {
   "codemirror_mode": {
    "name": "ipython",
    "version": 3
   },
   "file_extension": ".py",
   "mimetype": "text/x-python",
   "name": "python",
   "nbconvert_exporter": "python",
   "pygments_lexer": "ipython3",
   "version": "3.10.13"
  },
  "papermill": {
   "default_parameters": {},
   "duration": 7.250589,
   "end_time": "2024-02-25T08:19:36.633762",
   "environment_variables": {},
   "exception": null,
   "input_path": "__notebook__.ipynb",
   "output_path": "__notebook__.ipynb",
   "parameters": {},
   "start_time": "2024-02-25T08:19:29.383173",
   "version": "2.5.0"
  }
 },
 "nbformat": 4,
 "nbformat_minor": 5
}
